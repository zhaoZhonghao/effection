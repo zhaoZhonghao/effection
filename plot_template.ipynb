{
 "cells": [
  {
   "cell_type": "code",
   "execution_count": 1,
   "metadata": {
    "collapsed": true
   },
   "outputs": [],
   "source": [
    "# jupyter python 必备模板画图专用\n",
    "import numpy as np\n",
    "import matplotlib.pyplot as plt\n",
    "import pandas as pd\n",
    "import seaborn as sns\n",
    "% matplotlib inline"
   ]
  },
  {
   "cell_type": "code",
   "execution_count": 2,
   "metadata": {
    "collapsed": true
   },
   "outputs": [],
   "source": [
    "# 读取文件\n",
    "# xxx = pd.read_excel(\"C:/Users/12259/Desktop/Book1.xlsx\")\n",
    "# xxx.head(3) 读取xxx 的前三行 ， 方便看清属性的名称"
   ]
  },
  {
   "cell_type": "markdown",
   "metadata": {},
   "source": [
    "各类plot\n",
    "----\n",
    "+ 盒子图，描述数据**分布**\n",
    "    + 中心横线为mean，上下**小**横线为最值\n",
    "    + 选择配色方案*palette* 为 Blues_d 是 blues descending\n",
    "    + 配色方案最好统一，需[定制化](http://jose-coto.com/styling-with-seaborn)\n",
    "    + ```sns.boxplot(x=\"自变量Column\", y=\"因变量Column\", hue=\"每组的区分因素\", data=xxx,  palette='Blues_d')```\n",
    "+ 因素图**factorplot**，描述影响关系\n",
    "    + ```col```用以进行分组，例如按照年纪分组\n",
    "    + ```hue```为组内的区分，如男女\n",
    "    + ```teamSep = sns.factorplot(x='graduation', y='expectSalary', hue='dietHealth', col='studentActivity', data=salary, palette='YlOrRd')```\n",
    "                        \n",
    "+ regression 全体图，描述regression的一切\n",
    "    + 包括自变量，因变量的分布情况；回归表现\n",
    "    + ```jointRegress = sns.jointplot(\"expectSalary\", \"Fact\", data=salary, kind=\"reg\", size=7, color=\"#00274c\")```\n",
    "        + kind为joint图类型选择\n",
    "        + color选项的数值为**密歇根蓝**，配色方案[点此](https://www.114la.com/other/rgb.htm)\n",
    "+ 同位置，增长条形图\n",
    "    + 注意先画**高**的数值，否则**低**数值被挡住，看不见\n",
    "    + ```f, ax = plt.subplots(figsize=(6, 6))\n",
    "    sns.barplot(x=\"graduation\", y=\"expectSalary\", data=salary, label=\"Expect Salary\", color=\"#00274c\")\n",
    "    sns.barplot(x=\"graduation\", y=\"Fact\", data=salary, label=\"Actual Income\", color=\"#ffcb0b\")\n",
    "    ax.legend()\n",
    "    ax.set(ylabel=\"Salaries (k$)\", xlabel=\"Graduation Yr\", ylim=(3,9)) ```\n",
    "\n"
   ]
  },
  {
   "cell_type": "markdown",
   "metadata": {},
   "source": [
    "+ 并列式barplot 条形图\n",
    "    + ```fig, ax = plt.subplots(figsize=(6,6))\n",
    "    width = 0.3  # 条宽度灵活设置\n",
    "    ind = np.arange(int(len(male)))\n",
    "    ax.bar(ind, male['GPA'], width, color='#FFCB0B', label='male') # 条1\n",
    "    ax.bar(ind+width, female['GPA'], width, color='#00274C', label='female') # 条2\n",
    "    ax.set(ylabel='GPA', ylim=(3,5), xlim=(-0.5,5.5)) # 设置坐标\n",
    "    ax.legend()\n",
    "    ```\n",
    "+ 带方差soloBarPlot 普通条形图\n",
    "    + ```\n",
    "    fig, ax = plt.subplots(figsize=(6,6))\n",
    "    rects1 = ax.bar(标号数列, 画图对象, width, color='r', yerr=画图对象2)\n",
    "    # demo\n",
    "        # 标号序列 = np.arange(5)\n",
    "        # 画图对象 = （1，2，3，4，5）\n",
    "        # 画图对象2 = （.1, .2, .3, .5, .2)\n",
    "    ```\n",
    "+ 散点图\n",
    "    + ```\n",
    "    fig, ax = plt.subplots(fixgsize=(6,6))\n",
    "    ax.scatter(x='GPA', y='expectSalary', data=male, marker='x', c='darkblue')\n",
    "    ax.scatter(x='GPA', y='expectSalary', data=female, c='g', alpha=0.85)\n",
    "    ```\n",
    "        + alpha 为opacity，越↑，颜色越浓"
   ]
  },
  {
   "cell_type": "markdown",
   "metadata": {},
   "source": [
    "雷达图\n",
    "---\n",
    "+ 数据demo\n",
    "```\n",
    "labels = np.array(['GPA','Sports','Income','Age','Sex','Height'])\n",
    "dataLenth = 6\n",
    "data = np.array([9,6,5,7,5,9])\n",
    "data2= np.array([9,8,3,4,7,3])\n",
    "```\n",
    "+ 加工数据（闭合曲线，均分圆弧）\n",
    "```\n",
    "angles = np.linspace(0, 2*np.pi, dataLenth, endpoint=False)\n",
    "data = np.concatenate((data, [data[0]])) # 闭合\n",
    "data2 = np.concatenate((data2, [data2[0]]))\n",
    "angles = np.concatenate((angles, [angles[0]])) # 闭合\n",
    "```\n",
    "+ 画图\n",
    "```\n",
    "fig = plt.figure(figsize=(6,6))\n",
    "ax = fig.add_subplot(111, polar=True)# polar参数！！\n",
    "ax.plot(angles, data, color=\"#FFCB0B\", linestyle=\"-\", marker=\"o\", linewidth=2)# 画线\n",
    "ax.fill(angles, data, facecolor='#FFCB0B', alpha=0.95)# 填充\n",
    "ax.plot(angles, data2, color=\"#00274C\", linestyle=\"-\", marker=\"o\", linewidth=2)\n",
    "ax.fill(angles, data2, facecolor='#00274C', alpha=0.95)\n",
    "ax.set_thetagrids(angles * 180/np.pi, labels)\n",
    "ax.set_title(\"Rates\", va='bottom')\n",
    "ax.set_rlim(0,10)\n",
    "ax.grid(True)\n",
    "```"
   ]
  },
  {
   "cell_type": "markdown",
   "metadata": {},
   "source": [
    "常用配色方案\n",
    "----\n",
    "+ 密歇根蓝 = #00274C\n",
    "+ 密歇根黄 = #FFCB0B"
   ]
  },
  {
   "cell_type": "code",
   "execution_count": null,
   "metadata": {
    "collapsed": true
   },
   "outputs": [],
   "source": []
  }
 ],
 "metadata": {
  "kernelspec": {
   "display_name": "Python 3",
   "language": "python",
   "name": "python3"
  },
  "language_info": {
   "codemirror_mode": {
    "name": "ipython",
    "version": 3
   },
   "file_extension": ".py",
   "mimetype": "text/x-python",
   "name": "python",
   "nbconvert_exporter": "python",
   "pygments_lexer": "ipython3",
   "version": "3.6.2"
  }
 },
 "nbformat": 4,
 "nbformat_minor": 2
}
