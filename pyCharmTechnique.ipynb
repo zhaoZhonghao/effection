{
 "cells": [
  {
   "cell_type": "markdown",
   "metadata": {},
   "source": [
    "pyCharm MUST Know Techniques\n",
    "-----\n",
    "\n",
    "+ package install/manage\n",
    "\n",
    "+ import my package \n",
    "+ Others"
   ]
  },
  {
   "cell_type": "markdown",
   "metadata": {},
   "source": [
    "## package install/manage\n",
    "\n",
    "+ create a project\n",
    "+ Files-->Setting(contrl+alt+S)-->Project Interpret --> **RIGHT GREEN +** \n",
    "+ just intall whichever you need\n"
   ]
  },
  {
   "cell_type": "markdown",
   "metadata": {},
   "source": [
    "## import my package\n",
    "####  \\*.py in the **same** directory\n",
    "```python\n",
    "import target as tg  ## target.py will be imported\n",
    "```\n",
    "#### \\*.py of a folder that folder is in the same directory\n",
    "```python\n",
    "import folder.target as tg  ## target.py in folder will be imported\n",
    "```"
   ]
  },
  {
   "cell_type": "markdown",
   "metadata": {},
   "source": [
    "## Others\n",
    "\n",
    "need time and move on..."
   ]
  },
  {
   "cell_type": "code",
   "execution_count": null,
   "metadata": {
    "collapsed": true
   },
   "outputs": [],
   "source": []
  }
 ],
 "metadata": {
  "kernelspec": {
   "display_name": "Python 3",
   "language": "python",
   "name": "python3"
  },
  "language_info": {
   "codemirror_mode": {
    "name": "ipython",
    "version": 3
   },
   "file_extension": ".py",
   "mimetype": "text/x-python",
   "name": "python",
   "nbconvert_exporter": "python",
   "pygments_lexer": "ipython3",
   "version": "3.5.2"
  }
 },
 "nbformat": 4,
 "nbformat_minor": 2
}
